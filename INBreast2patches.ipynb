{
  "nbformat": 4,
  "nbformat_minor": 0,
  "metadata": {
    "colab": {
      "provenance": [],
      "machine_shape": "hm"
    },
    "kernelspec": {
      "name": "python3",
      "display_name": "Python 3"
    },
    "language_info": {
      "name": "python"
    },
    "gpuClass": "standard"
  },
  "cells": [
    {
      "cell_type": "markdown",
      "source": [
        "## Google drive mounting"
      ],
      "metadata": {
        "id": "cMxlsDngwuNr"
      }
    },
    {
      "cell_type": "code",
      "source": [
        "from google.colab import drive\n",
        "drive.mount('/content/drive')\n",
        "%cd \"./path_to_project_root/\""
      ],
      "metadata": {
        "id": "P4vOWoEAuMjU"
      },
      "execution_count": null,
      "outputs": []
    },
    {
      "cell_type": "markdown",
      "source": [
        "## Installation of external packages"
      ],
      "metadata": {
        "id": "3bdgqgfOwpLG"
      }
    },
    {
      "cell_type": "code",
      "execution_count": 2,
      "metadata": {
        "id": "w6OiB17IlObx"
      },
      "outputs": [],
      "source": [
        "%%capture\n",
        "!pip install import-ipynb\n",
        "!pip install pydicom\n",
        "!pip install torchmetrics\n",
        "\n",
        "!pip3 install git+https://github.com/itzortzis/INBreast_XML_parser.git"
      ]
    },
    {
      "cell_type": "markdown",
      "source": [
        "## External and local imports"
      ],
      "metadata": {
        "id": "kQj1pTC1wyKq"
      }
    },
    {
      "cell_type": "code",
      "source": [
        "#import anot_core as anot\n",
        "import utils.inbreast_utils as inutils\n",
        "import utils.dataset_utils as dutils"
      ],
      "metadata": {
        "id": "t19O8LK0v8x1"
      },
      "execution_count": 3,
      "outputs": []
    },
    {
      "cell_type": "code",
      "source": [
        "paths = {\n",
        "    'xml': '../INBreast/XML/',\n",
        "    'dcm': '../INBreast/DICOM/',\n",
        "    'csv': '../INBreast/INbreast_compact.csv',\n",
        "    'dtst': './dataset/single/'\n",
        "}\n",
        "\n",
        "args = {\n",
        "    'p_size': 512,\n",
        "    'p_step': 50,\n",
        "    'ppi': 6,  # Maximum number of malignant patches per image\n",
        "    'h_ppi': 6 # Maximum number of healthy patches per image\n",
        "}"
      ],
      "metadata": {
        "id": "pjLw64OS0qU9"
      },
      "execution_count": 4,
      "outputs": []
    },
    {
      "cell_type": "code",
      "source": [
        "l            = inutils.build_dcm_dict(paths['csv'])\n",
        "non_h        = inutils.extract_mal_dcms(l)\n",
        "dataset_size = dutils.create_dataset(args, paths, non_h)"
      ],
      "metadata": {
        "id": "kaCuvLdH1pP4"
      },
      "execution_count": null,
      "outputs": []
    }
  ]
}